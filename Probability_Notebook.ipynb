{
 "cells": [
  {
   "cell_type": "markdown",
   "metadata": {},
   "source": [
    "## Math Stuffs"
   ]
  },
  {
   "cell_type": "code",
   "execution_count": 1,
   "metadata": {},
   "outputs": [],
   "source": [
    "import math\n",
    "from scipy.stats import binom as bi\n",
    "import scipy.special as sp\n",
    "import numpy as np\n",
    "import pandas as pd"
   ]
  },
  {
   "cell_type": "code",
   "execution_count": 2,
   "metadata": {},
   "outputs": [],
   "source": [
    "def successChance(challenge, ability, crank):\n",
    "\n",
    "    if (crank == 0):\n",
    "        crank = 0\n",
    "\n",
    "    #Successful rolls required\n",
    "    req = (challenge.suc + crank)- ability.suc\n",
    "    if (req > ability.lvl):\n",
    "        return 0\n",
    "    elif (req <= 0):\n",
    "        return 1\n",
    "\n",
    "    if ((challenge.dif + crank) > ability.rng):\n",
    "        return 0\n",
    "\n",
    "    #Success probability per roll\n",
    "    prob = (ability.str + ability.rng - (challenge.dif + crank) + 1) / ability.rng\n",
    "    #prob =   (ability.rng - (challenge.dif + crank) + 1) / (ability.rng - ability.str + 1)\n",
    "    \n",
    "   \n",
    "    if (prob >= 1):\n",
    "        return 1\n",
    "        \n",
    "    return min(0.9999, 1 - bi.cdf(req,ability.lvl,prob,loc=1))\n",
    "\n"
   ]
  },
  {
   "cell_type": "code",
   "execution_count": 3,
   "metadata": {},
   "outputs": [],
   "source": [
    "class challenge:\n",
    "    def __init__(self, difficulty, success):\n",
    "        self.dif = difficulty\n",
    "        self.suc = success"
   ]
  },
  {
   "cell_type": "code",
   "execution_count": 4,
   "metadata": {},
   "outputs": [],
   "source": [
    "class ability:\n",
    "    def __init__(self, lvl, rng, strength, suc):\n",
    "        self.lvl = lvl\n",
    "        self.rng = rng\n",
    "        self.str = strength\n",
    "        self.suc = suc"
   ]
  },
  {
   "cell_type": "code",
   "execution_count": 5,
   "metadata": {},
   "outputs": [],
   "source": [
    "y = challenge(43,39)\n",
    "x = ability(78,58,10,4)\n"
   ]
  },
  {
   "cell_type": "code",
   "execution_count": 6,
   "metadata": {},
   "outputs": [
    {
     "data": {
      "text/plain": [
       "0.5406088002364384"
      ]
     },
     "execution_count": 6,
     "metadata": {},
     "output_type": "execute_result"
    }
   ],
   "source": [
    "successChance(y,x,0)"
   ]
  },
  {
   "cell_type": "markdown",
   "metadata": {},
   "source": [
    "## Calculating functions"
   ]
  },
  {
   "cell_type": "code",
   "execution_count": 7,
   "metadata": {},
   "outputs": [],
   "source": [
    "def add_stats (lvl_start, lvl_cost, rng_start, rng_cost, str_start, str_cost, suc_start, suc_cost):\n",
    "    level = [(lvl_start, 0)]\n",
    "    start = lvl_start + 1\n",
    "    end = lvl_start + 30\n",
    "\n",
    "    for i in range(start,end):\n",
    "        if i == start:\n",
    "            level += [(i, lvl_cost)]\n",
    "        else:\n",
    "            level += [(i, level[i-start][1] + level[1][1] + 900 * (i-start))]\n",
    "\n",
    "            \n",
    "    rng = [(rng_start, 0)]\n",
    "    start_r = rng_start + 1\n",
    "    end_r = rng_start + 30\n",
    "\n",
    "    for i in range(start_r,end_r):\n",
    "        if i == start_r:\n",
    "            rng += [(i, rng_cost)]\n",
    "        else:\n",
    "            rng += [(i, rng[i-start_r][1] + rng[1][1] + 1800 * (i-start_r))]\n",
    "    \n",
    "    strength = [(str_start, 0)]\n",
    "    start_st = str_start + 1\n",
    "    end_st = str_start + 20\n",
    "\n",
    "    for i in range(start_st,end_st):\n",
    "        if i == start_st:\n",
    "            strength += [(i, str_cost)]\n",
    "        else:\n",
    "            strength += [(i, strength[i-start_st][1] + strength[1][1] + 9000 * (i-start_st))]\n",
    "    \n",
    "    success = [(suc_start,0)]\n",
    "    start_su = suc_start + 1\n",
    "    end_su = suc_start + 20\n",
    "\n",
    "    for i in range(start_su,end_su):\n",
    "        if i == start_su:\n",
    "            success += [(i, suc_cost)]\n",
    "        else:\n",
    "            success += [(i, success[i-start_su][1] + success[1][1] + 12600 * (i-start_su))]\n",
    "            \n",
    "    return level, rng, strength, success"
   ]
  },
  {
   "cell_type": "code",
   "execution_count": 8,
   "metadata": {},
   "outputs": [],
   "source": [
    "def optimize(level, rng, strength , success, diff, req):\n",
    "    y = challenge(diff,req)\n",
    "    output = np.zeros((len(level),len(rng),len(strength),len(success)), dtype=[('probability', np.float32), ('cost', np.float32)])\n",
    "    for i in range(len(level)):\n",
    "        for j in range (len(rng)):\n",
    "            for k in range (len(strength)):\n",
    "                for l in range (len(success)):\n",
    "                    x = ability(level[i][0],rng[j][0],strength[k][0],success[l][0])\n",
    "                    cost = level[i][1] + rng[j][1] + strength[k][1] + success[l][1]\n",
    "                    output[i][j][k][l] = (successChance(y,x,0),cost)\n",
    "\n",
    "    cost = 10000000\n",
    "    lvl = 0\n",
    "    rnge = 0\n",
    "    stre = 0\n",
    "    suc = 0\n",
    "    for i in range(len(level)):\n",
    "        for j in range (len(rng)):\n",
    "            for k in range (len(strength)):\n",
    "                for l in range (len(success)):\n",
    "                    if (output[i][j][k][l][0] > 0.80):\n",
    "                        current_cost = output[i][j][k][l][1]\n",
    "                        if  current_cost < cost:\n",
    "                            cost = current_cost\n",
    "                            lvl = level[i][0]\n",
    "                            rnge = rng[j][0]\n",
    "                            stre = strength[k][0]\n",
    "                            suc = success[l][0]\n",
    "\n",
    "    print ( \"level=\" + str(lvl) + \", range=\" + str(rnge) + \", strength=\" + str(stre) + \", success=\" + str(suc) + \"\\n cost=\" + str(cost))"
   ]
  },
  {
   "cell_type": "code",
   "execution_count": 11,
   "metadata": {},
   "outputs": [
    {
     "name": "stdout",
     "output_type": "stream",
     "text": [
      "level=82, range=53, strength=17, success=5\n",
      " cost=191250.0\n"
     ]
    }
   ],
   "source": [
    "level, rng, strength, success = add_stats(75, 9450, 52, 15300, 15, 31500, 4, 18900)\n",
    "optimize(level, rng, strength, success, 43,39)"
   ]
  },
  {
   "cell_type": "code",
   "execution_count": 13,
   "metadata": {},
   "outputs": [
    {
     "name": "stdout",
     "output_type": "stream",
     "text": [
      "level=79, range=55, strength=21, success=6\n",
      " cost=36000.0\n"
     ]
    }
   ],
   "source": [
    "level, rng, strength, success = add_stats(78, 18550, 55, 20700, 21, 58500, 6, 44100)\n",
    "optimize(level, rng, strength, success, 45,41)"
   ]
  },
  {
   "cell_type": "code",
   "execution_count": 9,
   "metadata": {},
   "outputs": [
    {
     "name": "stdout",
     "output_type": "stream",
     "text": [
      "level=68, range=55, strength=20, success=4\n",
      " cost=0.0\n"
     ]
    }
   ],
   "source": [
    "#Gen 40 45\n",
    "level, rng, strength, success = add_stats(68, 10350, 55, 11700, 20, 31500, 4, 31500)\n",
    "optimize(level, rng, strength, success, 40,45)"
   ]
  },
  {
   "cell_type": "code",
   "execution_count": 10,
   "metadata": {},
   "outputs": [
    {
     "name": "stdout",
     "output_type": "stream",
     "text": [
      "level=78, range=60, strength=22, success=6\n",
      " cost=0.0\n"
     ]
    }
   ],
   "source": [
    "#Nin 45 50\n",
    "level, rng, strength, success = add_stats(78, 18450, 60, 20700, 22, 58500, 6, 44100)\n",
    "optimize(level, rng, strength, success, 45,50)"
   ]
  },
  {
   "cell_type": "code",
   "execution_count": 11,
   "metadata": {},
   "outputs": [
    {
     "name": "stdout",
     "output_type": "stream",
     "text": [
      "level=82, range=62, strength=22, success=7\n",
      " cost=495000.0\n"
     ]
    }
   ],
   "source": [
    "#Tai 50 50\n",
    "level, rng, strength, success = add_stats(70, 11250, 57, 17100, 19, 31500, 5, 31500)\n",
    "optimize(level, rng, strength, success, 50,50)"
   ]
  },
  {
   "cell_type": "code",
   "execution_count": null,
   "metadata": {},
   "outputs": [],
   "source": [
    "cost = 10000000\n",
    "for i in range(len(level)):\n",
    "    for k in range (len(strength)):\n",
    "        for l in range (len(success)):\n",
    "            if (test[i][52][k][l][0] > 0.99):\n",
    "                    current_cost = test[i][52][k][l][1]\n",
    "                    if current_cost < cost:\n",
    "                        cost = current_cost\n",
    "                        lvl = i\n",
    "                        rnge = 52\n",
    "                        stre = k\n",
    "                        suc = l\n"
   ]
  },
  {
   "cell_type": "code",
   "execution_count": null,
   "metadata": {},
   "outputs": [],
   "source": [
    "print ( \"level=\" + str(lvl) + \", range=\" + str(rnge) + \", strength=\" + str(stre) + \", success=\" + str(suc) + \"\\n cost=\" + str(cost))"
   ]
  },
  {
   "cell_type": "code",
   "execution_count": null,
   "metadata": {},
   "outputs": [],
   "source": []
  },
  {
   "cell_type": "code",
   "execution_count": null,
   "metadata": {},
   "outputs": [],
   "source": [
    "print ( \"level=\" + str(lvl) + \", range=\" + str(rnge) + \", strength=\" + str(stre) + \", success=\" + str(suc) + \"\\n cost=\" + str(cost))"
   ]
  },
  {
   "cell_type": "code",
   "execution_count": null,
   "metadata": {},
   "outputs": [],
   "source": []
  }
 ],
 "metadata": {
  "kernelspec": {
   "display_name": "Python 3",
   "language": "python",
   "name": "python3"
  },
  "language_info": {
   "codemirror_mode": {
    "name": "ipython",
    "version": 3
   },
   "file_extension": ".py",
   "mimetype": "text/x-python",
   "name": "python",
   "nbconvert_exporter": "python",
   "pygments_lexer": "ipython3",
   "version": "3.7.6"
  }
 },
 "nbformat": 4,
 "nbformat_minor": 4
}
